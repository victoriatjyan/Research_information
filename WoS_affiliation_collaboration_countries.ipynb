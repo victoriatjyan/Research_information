{
 "cells": [
  {
   "cell_type": "code",
   "execution_count": null,
   "id": "cfc69949",
   "metadata": {},
   "outputs": [],
   "source": [
    "# Author: Victoria Yan, EMBL OSIM \n",
    "# Date June 2022 \n",
    "# Motivation is to parse and distinguish country and institute information for EMBL publications\n",
    "# Data is sourced from WoS's export of 2019-2022 publication data\n",
    "# Code could be adapted to change the institute name to another organization to find your collaborating countries\n",
    "\n",
    "import csv\n",
    "import numpy as np\n",
    "import matplotlib.pyplot as plt\n",
    "import seaborn as sns\n",
    "import pandas as pd\n",
    "import os\n",
    "from pylab import *\n",
    "from matplotlib.colors import *\n",
    "from pathlib import Path  \n",
    "import re"
   ]
  },
  {
   "cell_type": "code",
   "execution_count": null,
   "id": "29d3c8a3",
   "metadata": {},
   "outputs": [],
   "source": [
    "# Load data\n",
    "dataPath = os.path.abspath('/Users/yan/Documents/Python/EMBL_DataCollection/data/2019-2022_fullWoS - Sheet2.tsv')\n",
    "WoS_tab = pd.read_csv(dataPath, sep='\\t')"
   ]
  },
  {
   "cell_type": "code",
   "execution_count": null,
   "id": "b500ed3a",
   "metadata": {},
   "outputs": [],
   "source": [
    "WoS_tab\n",
    "sepStart=[]"
   ]
  },
  {
   "cell_type": "code",
   "execution_count": null,
   "id": "ab2c0208",
   "metadata": {},
   "outputs": [],
   "source": [
    "# define parsing function\n",
    "# This parses the paragraph of addresses down to a dataframe with column Name, institute, Country, \n",
    "# each row is another instance of institute\n",
    "\n",
    "def parse_affiliations(address):\n",
    "    sepStart = cPub.split(\"; [\")\n",
    "    dfAffil = pd.DataFrame(columns=['Names','Institute','Country'])\n",
    "    ll = len(sepStart)\n",
    "    \n",
    "    for i in range(0,ll):\n",
    "        currentAffil = sepStart[i]\n",
    "        isolateName = currentAffil.split(\"]\")\n",
    "        Name = isolateName[0].split(\"[\")\n",
    "        isolateCountry = isolateName[1].split()\n",
    "        if i == 0:\n",
    "            dfAffil.loc[i, [\"Names\"]] = str(Name[1])\n",
    "        else:\n",
    "            dfAffil.loc[i, [\"Names\"]] = str(Name[0])\n",
    "        \n",
    "        dfAffil.loc[i, [\"Institute\"]] = isolateName[1]\n",
    "        dfAffil.loc[i, [\"Country\"]] = isolateCountry[-1]  \n",
    "    return dfAffil"
   ]
  },
  {
   "cell_type": "code",
   "execution_count": null,
   "id": "f2c8273f",
   "metadata": {},
   "outputs": [],
   "source": [
    "# loop through all publications in table\n",
    "# get affiliation table, then extract unique collaborating countries\n",
    "\n",
    "p = len(WoS_tab)\n",
    "\n",
    "for pb in range(1,p):\n",
    "    print(pb)\n",
    "    cPub = WoS_tab.iloc[pb,1]\n",
    "    result = parse_affiliations(cPub)\n",
    "    \n",
    "    # Identify the EMBL authors in the table\n",
    "    # Possible to change institute here by replacing this string\n",
    "    FindEmblAuthor = result[result['Institute'].str.contains('European Mol Biol Lab')]\n",
    "    \n",
    "    if len(FindEmblAuthor) == 0:\n",
    "        FindEmblAuthor = result[result['Institute'].str.contains('EMBL')]\n",
    "    \n",
    "    if len(FindEmblAuthor) == 0:\n",
    "        FindEmblAuthor = result[result['Institute'].str.contains('European Bioinformat Inst')]\n",
    "    \n",
    "    if len(FindEmblAuthor) == 0:\n",
    "        FindEmblAuthor = result[result['Institute'].str.contains('HGNC')]\n",
    "      \n",
    "    EMBLAuthorName = FindEmblAuthor.iloc[0][\"Names\"]\n",
    "    substring = \";\"\n",
    "    \n",
    "    # Check if there are multiple EMBL authors\n",
    "    if substring in EMBLAuthorName:\n",
    "        separateNames = EMBLAuthorName.split(\";\")\n",
    "    else: \n",
    "        separateNames = [EMBLAuthorName]\n",
    "    \n",
    "    for k in range(0,len(separateNames)):  \n",
    "        separateNames[k] = separateNames[k].lstrip()\n",
    "        \n",
    "    nonEMBLAuthorTab = pd.DataFrame(columns=['Names','Institute','Country'])\n",
    "\n",
    "    for l in range(0,len(result)):\n",
    "        cRow = result.iloc[l]\n",
    "        rowNames = str(cRow['Names'])\n",
    "        \n",
    "        boolAlloc = []\n",
    "        \n",
    "        for m in range(0, len(separateNames)):\n",
    "        \n",
    "            cName = separateNames[m]\n",
    "        \n",
    "            if cName in rowNames:\n",
    "                check1 = True\n",
    "            \n",
    "            else: \n",
    "                check1 = False    \n",
    "            \n",
    "            boolAlloc.append(check1) \n",
    "        \n",
    "        if not any(boolAlloc):\n",
    "            nonEMBLAuthorTab = nonEMBLAuthorTab.append(cRow, ignore_index=True)\n",
    "        else:\n",
    "            pass\n",
    "    \n",
    "        nonEMBLAuthorTab.drop_duplicates(keep='last', subset = None)\n",
    "        uniqueCollabCountries = (nonEMBLAuthorTab[\"Country\"].unique())\n",
    "        \n",
    "    if len(uniqueCollabCountries) > 0:\n",
    "        \n",
    "        print(uniqueCollabCountries)\n",
    "        WoS_tab.loc[pb, [\"UniqueCollabCountries\"]] = str(uniqueCollabCountries)\n",
    "        #WoS_tab[pb]=[WoS_tab[pb][0],WoS_tab[pb][1],uniqueCollabCountries]\n",
    "        "
   ]
  },
  {
   "cell_type": "code",
   "execution_count": null,
   "id": "a1232a0c",
   "metadata": {},
   "outputs": [],
   "source": [
    "#filepath = Path('/Users/yan/Documents/Python/EMBL_DataCollection/data/2021_WoSAffil_res1.tsv') \n",
    "WoS_tab.to_csv('2021_WoSAffil_analysis2.tsv', sep = \"\\t\")"
   ]
  },
  {
   "cell_type": "code",
   "execution_count": null,
   "id": "4022d24b",
   "metadata": {},
   "outputs": [],
   "source": []
  },
  {
   "cell_type": "raw",
   "id": "23da6073",
   "metadata": {},
   "source": []
  },
  {
   "cell_type": "code",
   "execution_count": null,
   "id": "aa5462a6",
   "metadata": {},
   "outputs": [],
   "source": []
  },
  {
   "cell_type": "code",
   "execution_count": null,
   "id": "1c31518c",
   "metadata": {},
   "outputs": [],
   "source": []
  }
 ],
 "metadata": {
  "kernelspec": {
   "display_name": "Python 3 (ipykernel)",
   "language": "python",
   "name": "python3"
  },
  "language_info": {
   "codemirror_mode": {
    "name": "ipython",
    "version": 3
   },
   "file_extension": ".py",
   "mimetype": "text/x-python",
   "name": "python",
   "nbconvert_exporter": "python",
   "pygments_lexer": "ipython3",
   "version": "3.9.7"
  }
 },
 "nbformat": 4,
 "nbformat_minor": 5
}
